version https://git-lfs.github.com/spec/v1
oid sha256:5eccb7b7dbe1d09372c64fcae273cf392ea823ffd6cc9516ebe4e3741505b71e
size 64490960
